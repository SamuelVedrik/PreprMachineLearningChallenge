{
 "cells": [
  {
   "cell_type": "code",
   "execution_count": 1,
   "metadata": {
    "hideCode": false,
    "hidePrompt": false
   },
   "outputs": [],
   "source": [
    "import pandas as pd\n",
    "import numpy as np\n",
    "import matplotlib.pyplot as plt\n",
    "import seaborn as sns\n",
    "import re\n",
    "\n",
    "from IPython.display import Image, display, HTML\n",
    "import ipywidgets as widgets\n",
    "from ipywidgets import interact, interact_manual\n",
    "\n",
    "plt.rcParams[\"figure.figsize\"] = [15, 7]\n",
    "plt.style.use('ggplot')"
   ]
  },
  {
   "cell_type": "markdown",
   "metadata": {
    "hideCode": false,
    "hidePrompt": false
   },
   "source": [
    "## Prepr Machine Learning Challenge\n",
    "\n",
    "This notebook was created for the Prepr Machine Learning Challenge.\n",
    "\n",
    "The data are all available from [this link](https://www150.statcan.gc.ca/n1/daily-quotidien/190308/dq190308a-eng.htm). Specifically, the sources cite that information is found in the following tables, which I will use to conduct the analysis. \n",
    "\n",
    "* Statistics Canada.  [Table  14-10-0355-01](https://www150.statcan.gc.ca/t1/tbl1/en/cv.action?pid=1410035501#timeframe)   Employment by industry, monthly, seasonally adjusted and unadjusted, and trend-cycle, last 5 months (x 1,000)\n",
    "\n",
    "* Statistics Canada.  [Table  14-10-0287-01](https://www150.statcan.gc.ca/t1/tbl1/en/cv.action?pid=1410028701)   Labour force characteristics, monthly, seasonally adjusted and trend-cycle, last 5 months\n",
    "\n",
    "* Statistics Canada.  [Table  14-10-0288-01](https://www150.statcan.gc.ca/t1/tbl1/en/cv.action?pid=1410028801#timeframe)   Employment by class of worker, monthly, seasonally adjusted and unadjusted, last 5 months (x 1,000)\n",
    "\n",
    "\n",
    "The license for the usage of this dataset can be found [here](https://www.statcan.gc.ca/eng/reference/licence). \n",
    "\n",
    "\n",
    "Further more, we will be using a job skills data set provided by the Prepr team. "
   ]
  },
  {
   "cell_type": "markdown",
   "metadata": {
    "hideCode": false,
    "hidePrompt": false
   },
   "source": [
    "## Part 1: Employment by industry \n",
    "\n",
    "For the purposes of this analysis, we will be using the following columns. "
   ]
  },
  {
   "cell_type": "code",
   "execution_count": 2,
   "metadata": {
    "hideCode": false,
    "hidePrompt": false
   },
   "outputs": [
    {
     "data": {
      "text/html": [
       "<div>\n",
       "<style scoped>\n",
       "    .dataframe tbody tr th:only-of-type {\n",
       "        vertical-align: middle;\n",
       "    }\n",
       "\n",
       "    .dataframe tbody tr th {\n",
       "        vertical-align: top;\n",
       "    }\n",
       "\n",
       "    .dataframe thead th {\n",
       "        text-align: right;\n",
       "    }\n",
       "</style>\n",
       "<table border=\"1\" class=\"dataframe\">\n",
       "  <thead>\n",
       "    <tr style=\"text-align: right;\">\n",
       "      <th></th>\n",
       "      <th>Date</th>\n",
       "      <th>NAICS</th>\n",
       "      <th>Value</th>\n",
       "      <th>GEO</th>\n",
       "    </tr>\n",
       "  </thead>\n",
       "  <tbody>\n",
       "    <tr>\n",
       "      <th>8934</th>\n",
       "      <td>2017-06</td>\n",
       "      <td>Educational services [61]</td>\n",
       "      <td>50.6</td>\n",
       "      <td>Manitoba</td>\n",
       "    </tr>\n",
       "    <tr>\n",
       "      <th>4634</th>\n",
       "      <td>2020-01</td>\n",
       "      <td>Public administration [91]</td>\n",
       "      <td>29.2</td>\n",
       "      <td>Nova Scotia</td>\n",
       "    </tr>\n",
       "    <tr>\n",
       "      <th>7749</th>\n",
       "      <td>2015-04</td>\n",
       "      <td>Educational services [61]</td>\n",
       "      <td>521.0</td>\n",
       "      <td>Ontario</td>\n",
       "    </tr>\n",
       "    <tr>\n",
       "      <th>6400</th>\n",
       "      <td>2019-10</td>\n",
       "      <td>Transportation and warehousing [48-49]</td>\n",
       "      <td>242.7</td>\n",
       "      <td>Quebec</td>\n",
       "    </tr>\n",
       "    <tr>\n",
       "      <th>10754</th>\n",
       "      <td>2016-08</td>\n",
       "      <td>Construction [23]</td>\n",
       "      <td>246.4</td>\n",
       "      <td>Alberta</td>\n",
       "    </tr>\n",
       "  </tbody>\n",
       "</table>\n",
       "</div>"
      ],
      "text/plain": [
       "          Date                                   NAICS  Value          GEO\n",
       "8934   2017-06               Educational services [61]   50.6     Manitoba\n",
       "4634   2020-01              Public administration [91]   29.2  Nova Scotia\n",
       "7749   2015-04               Educational services [61]  521.0      Ontario\n",
       "6400   2019-10  Transportation and warehousing [48-49]  242.7       Quebec\n",
       "10754  2016-08                       Construction [23]  246.4      Alberta"
      ]
     },
     "execution_count": 2,
     "metadata": {},
     "output_type": "execute_result"
    }
   ],
   "source": [
    "df_industry = pd.read_csv(\"Industry_province.csv\")\n",
    "\n",
    "df_industry.rename(columns={\"North American Industry Classification System (NAICS)\": \"NAICS\", \n",
    "                            \"REF_DATE\": \"Date\",\n",
    "                            \"VALUE\": \"Value\"}, inplace=True)\n",
    "\n",
    "columns = [\"Date\", \"NAICS\", \"Value\", \"GEO\"]\n",
    "\n",
    "df_industry[columns].sample(5, random_state=42)"
   ]
  },
  {
   "cell_type": "markdown",
   "metadata": {
    "hideCode": false,
    "hidePrompt": false
   },
   "source": [
    "We note that the value has a scalar multiplier of 3. For now, we will keep the values as is."
   ]
  },
  {
   "cell_type": "code",
   "execution_count": 3,
   "metadata": {
    "hideCode": false,
    "hidePrompt": false
   },
   "outputs": [
    {
     "name": "stdout",
     "output_type": "stream",
     "text": [
      "Total number of missing values for each column: \n"
     ]
    },
    {
     "data": {
      "text/plain": [
       "Date     0\n",
       "NAICS    0\n",
       "Value    8\n",
       "GEO      0\n",
       "dtype: int64"
      ]
     },
     "execution_count": 3,
     "metadata": {},
     "output_type": "execute_result"
    }
   ],
   "source": [
    "print(\"Total number of missing values for each column: \")\n",
    "\n",
    "df_industry[columns].isna().sum()"
   ]
  },
  {
   "cell_type": "code",
   "execution_count": 4,
   "metadata": {
    "hideCode": false,
    "hidePrompt": false
   },
   "outputs": [
    {
     "data": {
      "text/html": [
       "<div>\n",
       "<style scoped>\n",
       "    .dataframe tbody tr th:only-of-type {\n",
       "        vertical-align: middle;\n",
       "    }\n",
       "\n",
       "    .dataframe tbody tr th {\n",
       "        vertical-align: top;\n",
       "    }\n",
       "\n",
       "    .dataframe thead th {\n",
       "        text-align: right;\n",
       "    }\n",
       "</style>\n",
       "<table border=\"1\" class=\"dataframe\">\n",
       "  <thead>\n",
       "    <tr style=\"text-align: right;\">\n",
       "      <th></th>\n",
       "      <th>Date</th>\n",
       "      <th>GEO</th>\n",
       "      <th>DGUID</th>\n",
       "      <th>NAICS</th>\n",
       "      <th>Statistics</th>\n",
       "      <th>Data type</th>\n",
       "      <th>UOM</th>\n",
       "      <th>UOM_ID</th>\n",
       "      <th>SCALAR_FACTOR</th>\n",
       "      <th>SCALAR_ID</th>\n",
       "      <th>VECTOR</th>\n",
       "      <th>COORDINATE</th>\n",
       "      <th>Value</th>\n",
       "      <th>STATUS</th>\n",
       "      <th>SYMBOL</th>\n",
       "      <th>TERMINATED</th>\n",
       "      <th>DECIMALS</th>\n",
       "    </tr>\n",
       "  </thead>\n",
       "  <tbody>\n",
       "    <tr>\n",
       "      <th>2590</th>\n",
       "      <td>2017-06</td>\n",
       "      <td>Prince Edward Island</td>\n",
       "      <td>2016A000211</td>\n",
       "      <td>Utilities [22]</td>\n",
       "      <td>Estimate</td>\n",
       "      <td>Seasonally adjusted</td>\n",
       "      <td>Persons</td>\n",
       "      <td>249</td>\n",
       "      <td>thousands</td>\n",
       "      <td>3</td>\n",
       "      <td>v2057645</td>\n",
       "      <td>3.5.1.1</td>\n",
       "      <td>NaN</td>\n",
       "      <td>x</td>\n",
       "      <td>NaN</td>\n",
       "      <td>NaN</td>\n",
       "      <td>1</td>\n",
       "    </tr>\n",
       "    <tr>\n",
       "      <th>2591</th>\n",
       "      <td>2017-07</td>\n",
       "      <td>Prince Edward Island</td>\n",
       "      <td>2016A000211</td>\n",
       "      <td>Utilities [22]</td>\n",
       "      <td>Estimate</td>\n",
       "      <td>Seasonally adjusted</td>\n",
       "      <td>Persons</td>\n",
       "      <td>249</td>\n",
       "      <td>thousands</td>\n",
       "      <td>3</td>\n",
       "      <td>v2057645</td>\n",
       "      <td>3.5.1.1</td>\n",
       "      <td>NaN</td>\n",
       "      <td>x</td>\n",
       "      <td>NaN</td>\n",
       "      <td>NaN</td>\n",
       "      <td>1</td>\n",
       "    </tr>\n",
       "    <tr>\n",
       "      <th>2592</th>\n",
       "      <td>2017-08</td>\n",
       "      <td>Prince Edward Island</td>\n",
       "      <td>2016A000211</td>\n",
       "      <td>Utilities [22]</td>\n",
       "      <td>Estimate</td>\n",
       "      <td>Seasonally adjusted</td>\n",
       "      <td>Persons</td>\n",
       "      <td>249</td>\n",
       "      <td>thousands</td>\n",
       "      <td>3</td>\n",
       "      <td>v2057645</td>\n",
       "      <td>3.5.1.1</td>\n",
       "      <td>NaN</td>\n",
       "      <td>x</td>\n",
       "      <td>NaN</td>\n",
       "      <td>NaN</td>\n",
       "      <td>1</td>\n",
       "    </tr>\n",
       "    <tr>\n",
       "      <th>2593</th>\n",
       "      <td>2017-09</td>\n",
       "      <td>Prince Edward Island</td>\n",
       "      <td>2016A000211</td>\n",
       "      <td>Utilities [22]</td>\n",
       "      <td>Estimate</td>\n",
       "      <td>Seasonally adjusted</td>\n",
       "      <td>Persons</td>\n",
       "      <td>249</td>\n",
       "      <td>thousands</td>\n",
       "      <td>3</td>\n",
       "      <td>v2057645</td>\n",
       "      <td>3.5.1.1</td>\n",
       "      <td>NaN</td>\n",
       "      <td>x</td>\n",
       "      <td>NaN</td>\n",
       "      <td>NaN</td>\n",
       "      <td>1</td>\n",
       "    </tr>\n",
       "    <tr>\n",
       "      <th>2594</th>\n",
       "      <td>2017-10</td>\n",
       "      <td>Prince Edward Island</td>\n",
       "      <td>2016A000211</td>\n",
       "      <td>Utilities [22]</td>\n",
       "      <td>Estimate</td>\n",
       "      <td>Seasonally adjusted</td>\n",
       "      <td>Persons</td>\n",
       "      <td>249</td>\n",
       "      <td>thousands</td>\n",
       "      <td>3</td>\n",
       "      <td>v2057645</td>\n",
       "      <td>3.5.1.1</td>\n",
       "      <td>NaN</td>\n",
       "      <td>x</td>\n",
       "      <td>NaN</td>\n",
       "      <td>NaN</td>\n",
       "      <td>1</td>\n",
       "    </tr>\n",
       "    <tr>\n",
       "      <th>2595</th>\n",
       "      <td>2017-11</td>\n",
       "      <td>Prince Edward Island</td>\n",
       "      <td>2016A000211</td>\n",
       "      <td>Utilities [22]</td>\n",
       "      <td>Estimate</td>\n",
       "      <td>Seasonally adjusted</td>\n",
       "      <td>Persons</td>\n",
       "      <td>249</td>\n",
       "      <td>thousands</td>\n",
       "      <td>3</td>\n",
       "      <td>v2057645</td>\n",
       "      <td>3.5.1.1</td>\n",
       "      <td>NaN</td>\n",
       "      <td>x</td>\n",
       "      <td>NaN</td>\n",
       "      <td>NaN</td>\n",
       "      <td>1</td>\n",
       "    </tr>\n",
       "    <tr>\n",
       "      <th>2596</th>\n",
       "      <td>2017-12</td>\n",
       "      <td>Prince Edward Island</td>\n",
       "      <td>2016A000211</td>\n",
       "      <td>Utilities [22]</td>\n",
       "      <td>Estimate</td>\n",
       "      <td>Seasonally adjusted</td>\n",
       "      <td>Persons</td>\n",
       "      <td>249</td>\n",
       "      <td>thousands</td>\n",
       "      <td>3</td>\n",
       "      <td>v2057645</td>\n",
       "      <td>3.5.1.1</td>\n",
       "      <td>NaN</td>\n",
       "      <td>x</td>\n",
       "      <td>NaN</td>\n",
       "      <td>NaN</td>\n",
       "      <td>1</td>\n",
       "    </tr>\n",
       "    <tr>\n",
       "      <th>2597</th>\n",
       "      <td>2018-01</td>\n",
       "      <td>Prince Edward Island</td>\n",
       "      <td>2016A000211</td>\n",
       "      <td>Utilities [22]</td>\n",
       "      <td>Estimate</td>\n",
       "      <td>Seasonally adjusted</td>\n",
       "      <td>Persons</td>\n",
       "      <td>249</td>\n",
       "      <td>thousands</td>\n",
       "      <td>3</td>\n",
       "      <td>v2057645</td>\n",
       "      <td>3.5.1.1</td>\n",
       "      <td>NaN</td>\n",
       "      <td>x</td>\n",
       "      <td>NaN</td>\n",
       "      <td>NaN</td>\n",
       "      <td>1</td>\n",
       "    </tr>\n",
       "  </tbody>\n",
       "</table>\n",
       "</div>"
      ],
      "text/plain": [
       "         Date                   GEO        DGUID           NAICS Statistics  \\\n",
       "2590  2017-06  Prince Edward Island  2016A000211  Utilities [22]   Estimate   \n",
       "2591  2017-07  Prince Edward Island  2016A000211  Utilities [22]   Estimate   \n",
       "2592  2017-08  Prince Edward Island  2016A000211  Utilities [22]   Estimate   \n",
       "2593  2017-09  Prince Edward Island  2016A000211  Utilities [22]   Estimate   \n",
       "2594  2017-10  Prince Edward Island  2016A000211  Utilities [22]   Estimate   \n",
       "2595  2017-11  Prince Edward Island  2016A000211  Utilities [22]   Estimate   \n",
       "2596  2017-12  Prince Edward Island  2016A000211  Utilities [22]   Estimate   \n",
       "2597  2018-01  Prince Edward Island  2016A000211  Utilities [22]   Estimate   \n",
       "\n",
       "                Data type      UOM  UOM_ID SCALAR_FACTOR  SCALAR_ID    VECTOR  \\\n",
       "2590  Seasonally adjusted  Persons     249     thousands          3  v2057645   \n",
       "2591  Seasonally adjusted  Persons     249     thousands          3  v2057645   \n",
       "2592  Seasonally adjusted  Persons     249     thousands          3  v2057645   \n",
       "2593  Seasonally adjusted  Persons     249     thousands          3  v2057645   \n",
       "2594  Seasonally adjusted  Persons     249     thousands          3  v2057645   \n",
       "2595  Seasonally adjusted  Persons     249     thousands          3  v2057645   \n",
       "2596  Seasonally adjusted  Persons     249     thousands          3  v2057645   \n",
       "2597  Seasonally adjusted  Persons     249     thousands          3  v2057645   \n",
       "\n",
       "     COORDINATE  Value STATUS  SYMBOL  TERMINATED  DECIMALS  \n",
       "2590    3.5.1.1    NaN      x     NaN         NaN         1  \n",
       "2591    3.5.1.1    NaN      x     NaN         NaN         1  \n",
       "2592    3.5.1.1    NaN      x     NaN         NaN         1  \n",
       "2593    3.5.1.1    NaN      x     NaN         NaN         1  \n",
       "2594    3.5.1.1    NaN      x     NaN         NaN         1  \n",
       "2595    3.5.1.1    NaN      x     NaN         NaN         1  \n",
       "2596    3.5.1.1    NaN      x     NaN         NaN         1  \n",
       "2597    3.5.1.1    NaN      x     NaN         NaN         1  "
      ]
     },
     "execution_count": 4,
     "metadata": {},
     "output_type": "execute_result"
    }
   ],
   "source": [
    "df_industry[df_industry[\"Value\"].isna()]"
   ]
  },
  {
   "cell_type": "markdown",
   "metadata": {
    "hideCode": false,
    "hidePrompt": false
   },
   "source": [
    "We notice that there are missing values for the utilities industry in Prince Edward Island. According to the table sourced, this missing value is 'to meet the confidentiality requirements of the Statistics Act'. For the purposes of this analysis, we will assume that this is due to there being a low number of people employed in this sector in Prince Edward Island, and therefore we will replace these values with 0. "
   ]
  },
  {
   "cell_type": "code",
   "execution_count": 5,
   "metadata": {
    "hideCode": false,
    "hidePrompt": false
   },
   "outputs": [],
   "source": [
    "df_industry[\"Value\"].fillna(0, inplace=True)"
   ]
  },
  {
   "cell_type": "code",
   "execution_count": 6,
   "metadata": {
    "hideCode": false,
    "hidePrompt": false
   },
   "outputs": [
    {
     "name": "stdout",
     "output_type": "stream",
     "text": [
      "Below are all the values for the NAICS column: \n",
      "\n",
      "Total employed, all industries\n",
      "Goods-producing sector\n",
      "Agriculture [111-112, 1100, 1151-1152]\n",
      "Forestry, fishing, mining, quarrying, oil and gas [21, 113-114, 1153, 2100]\n",
      "Utilities [22]\n",
      "Construction [23]\n",
      "Manufacturing [31-33]\n",
      "Services-producing sector\n",
      "Wholesale and retail trade [41, 44-45]\n",
      "Transportation and warehousing [48-49]\n",
      "Finance, insurance, real estate, rental and leasing [52-53]\n",
      "Professional, scientific and technical services [54]\n",
      "Business, building and other support services [55-56]\n",
      "Educational services [61]\n",
      "Health care and social assistance [62]\n",
      "Information, culture and recreation [51, 71]\n",
      "Accommodation and food services [72]\n",
      "Other services (except public administration) [81]\n",
      "Public administration [91]\n"
     ]
    }
   ],
   "source": [
    "print(\"Below are all the values for the NAICS column: \\n\")\n",
    "_ =[print(industry) for industry in df_industry[\"NAICS\"].unique()]"
   ]
  },
  {
   "cell_type": "markdown",
   "metadata": {
    "hideCode": false,
    "hidePrompt": false
   },
   "source": [
    "Next, we take a look at the employment rates for each of the industries above for different provinces. Below is an interactive graph that allows the choice of which province and industry to analyse. "
   ]
  },
  {
   "cell_type": "code",
   "execution_count": 7,
   "metadata": {
    "hideCode": false,
    "hidePrompt": false
   },
   "outputs": [
    {
     "data": {
      "application/vnd.jupyter.widget-view+json": {
       "model_id": "f3db5de4077c4706a46f7482b5fdd2e8",
       "version_major": 2,
       "version_minor": 0
      },
      "text/plain": [
       "interactive(children=(Dropdown(description='Industry', options=('Total employed, all industries', 'Goods-produ…"
      ]
     },
     "metadata": {},
     "output_type": "display_data"
    }
   ],
   "source": [
    "def plot_industry(Industry, Province):\n",
    "    filter_ = (df_industry[\"NAICS\"] == Industry) & (df_industry[\"GEO\"] == Province)\n",
    "    df_selected = df_industry[filter_]\n",
    "    plt.plot(df_selected[\"Date\"], df_selected[\"Value\"])\n",
    "    plt.xticks(range(0, 12*5 + 1, 12), [\"2015-02\", \"2016-02\", \"2017-02\", \"2018-02\", \"2019-02\", \"2020-02\"])\n",
    "    plt.title(\"Employment for {} in {}\".format(Industry, Province))\n",
    "    plt.ylabel(\"Num employed (x1000)\")\n",
    "    \n",
    "_ = interact(plot_industry, Industry=df_industry[\"NAICS\"].unique(), Province=df_industry[\"GEO\"].unique())"
   ]
  },
  {
   "cell_type": "markdown",
   "metadata": {
    "hideCode": false,
    "hidePrompt": false
   },
   "source": [
    "We note that the number represents the NAICS code. More information and detail about each sector can be found [here](https://www23.statcan.gc.ca/imdb/p3VD.pl?Function=getVD&TVD=380372&CVD=380373&CLV=0&MLV=5&D=1). \n",
    "\n",
    "I have prepared a dataframe that includes the sectors described in the website above and a description of what each sector. The code is available in the scraping file. Below I included an example of a description. At the time of writing, it's unclear weather this will be useful, however I prepared it just in case. "
   ]
  },
  {
   "cell_type": "code",
   "execution_count": 8,
   "metadata": {
    "hideCode": false,
    "hidePrompt": false
   },
   "outputs": [],
   "source": [
    "df_desc = pd.read_csv(\"NAICS_desc.csv\").drop(columns=[\"Unnamed: 0\"])"
   ]
  },
  {
   "cell_type": "code",
   "execution_count": 9,
   "metadata": {
    "hideCode": false,
    "hidePrompt": false
   },
   "outputs": [
    {
     "name": "stdout",
     "output_type": "stream",
     "text": [
      "Example description of 11 - Agriculture, forestry, fishing and hunting :\n",
      "\n",
      " This sector comprises establishments primarily engaged in growing crops, raising animals, harvesting timber, harvesting fish and other animals from their natural habitats and providing related support activities.\n",
      " \n",
      " \n",
      " Establishments primarily engaged in agricultural research or that supply veterinary services are not included in this sector.\n",
      "\n",
      "\n"
     ]
    }
   ],
   "source": [
    "print(\"Example description of {}:\".format(df_desc[\"Name\"].iloc[0]))\n",
    "\n",
    "print(df_desc[\"Description\"].iloc[0])"
   ]
  },
  {
   "cell_type": "markdown",
   "metadata": {},
   "source": [
    "## Part 2: Labour characteristics\n",
    "\n",
    "Next, we take a look at the labour data."
   ]
  },
  {
   "cell_type": "code",
   "execution_count": 10,
   "metadata": {},
   "outputs": [],
   "source": [
    "df_labour = pd.read_csv(\"Labour_force.csv\")"
   ]
  },
  {
   "cell_type": "markdown",
   "metadata": {},
   "source": [
    "The labour force data has several kinds of statistics:\n",
    "\n",
    "* Population\n",
    "* Labour force\n",
    "    * Employment\n",
    "    * Full-Time Employment\n",
    "    * Part-Time Employment\n",
    "    * Unemployment\n",
    "\n",
    "* Unemployment_rate\n",
    "* Participation_rate\n",
    "* Employment_rate\n",
    "\n",
    "Below are some examples of the statistics. \n",
    "We will be considering only a few fields."
   ]
  },
  {
   "cell_type": "code",
   "execution_count": 11,
   "metadata": {},
   "outputs": [
    {
     "data": {
      "text/html": [
       "<div>\n",
       "<style scoped>\n",
       "    .dataframe tbody tr th:only-of-type {\n",
       "        vertical-align: middle;\n",
       "    }\n",
       "\n",
       "    .dataframe tbody tr th {\n",
       "        vertical-align: top;\n",
       "    }\n",
       "\n",
       "    .dataframe thead th {\n",
       "        text-align: right;\n",
       "    }\n",
       "</style>\n",
       "<table border=\"1\" class=\"dataframe\">\n",
       "  <thead>\n",
       "    <tr style=\"text-align: right;\">\n",
       "      <th></th>\n",
       "      <th>Date</th>\n",
       "      <th>Characteristics</th>\n",
       "      <th>Sex</th>\n",
       "      <th>Age group</th>\n",
       "      <th>Value</th>\n",
       "    </tr>\n",
       "  </thead>\n",
       "  <tbody>\n",
       "    <tr>\n",
       "      <th>1643</th>\n",
       "      <td>2019-11</td>\n",
       "      <td>Employment</td>\n",
       "      <td>Females</td>\n",
       "      <td>55 to 64 years</td>\n",
       "      <td>1525.3</td>\n",
       "    </tr>\n",
       "    <tr>\n",
       "      <th>3554</th>\n",
       "      <td>2016-06</td>\n",
       "      <td>Participation rate</td>\n",
       "      <td>Both sexes</td>\n",
       "      <td>25 to 54 years</td>\n",
       "      <td>86.3</td>\n",
       "    </tr>\n",
       "    <tr>\n",
       "      <th>3066</th>\n",
       "      <td>2016-06</td>\n",
       "      <td>Unemployment rate</td>\n",
       "      <td>Both sexes</td>\n",
       "      <td>55 to 64 years</td>\n",
       "      <td>6.3</td>\n",
       "    </tr>\n",
       "    <tr>\n",
       "      <th>3407</th>\n",
       "      <td>2019-06</td>\n",
       "      <td>Unemployment rate</td>\n",
       "      <td>Females</td>\n",
       "      <td>25 to 54 years</td>\n",
       "      <td>4.3</td>\n",
       "    </tr>\n",
       "    <tr>\n",
       "      <th>2554</th>\n",
       "      <td>2019-07</td>\n",
       "      <td>Unemployment</td>\n",
       "      <td>Both sexes</td>\n",
       "      <td>55 to 64 years</td>\n",
       "      <td>176.8</td>\n",
       "    </tr>\n",
       "  </tbody>\n",
       "</table>\n",
       "</div>"
      ],
      "text/plain": [
       "         Date     Characteristics         Sex       Age group   Value\n",
       "1643  2019-11          Employment     Females  55 to 64 years  1525.3\n",
       "3554  2016-06  Participation rate  Both sexes  25 to 54 years    86.3\n",
       "3066  2016-06   Unemployment rate  Both sexes  55 to 64 years     6.3\n",
       "3407  2019-06   Unemployment rate     Females  25 to 54 years     4.3\n",
       "2554  2019-07        Unemployment  Both sexes  55 to 64 years   176.8"
      ]
     },
     "execution_count": 11,
     "metadata": {},
     "output_type": "execute_result"
    }
   ],
   "source": [
    "labour_categories = [\"Date\", \"Characteristics\", \"Sex\", \"Age group\", \"Value\"]\n",
    "df_labour.rename(columns={\"REF_DATE\": \"Date\",\n",
    "                          \"Labour force characteristics\": \"Characteristics\", \n",
    "                         \"VALUE\": \"Value\"}, inplace=True)\n",
    "\n",
    "df_labour[labour_categories].sample(5, random_state=42)"
   ]
  },
  {
   "cell_type": "code",
   "execution_count": 12,
   "metadata": {},
   "outputs": [
    {
     "data": {
      "text/plain": [
       "Date               0\n",
       "Characteristics    0\n",
       "Sex                0\n",
       "Age group          0\n",
       "Value              0\n",
       "dtype: int64"
      ]
     },
     "execution_count": 12,
     "metadata": {},
     "output_type": "execute_result"
    }
   ],
   "source": [
    "df_labour[labour_categories].isna().sum()"
   ]
  },
  {
   "cell_type": "markdown",
   "metadata": {},
   "source": [
    "There are no missing values, and thus we won't have to do any cleaning in this regard. \n",
    "\n",
    "Below is an interactive graph that allows the choice of which Characteristic, Sex, and Age group to use for filtering the data. "
   ]
  },
  {
   "cell_type": "code",
   "execution_count": 13,
   "metadata": {},
   "outputs": [
    {
     "data": {
      "application/vnd.jupyter.widget-view+json": {
       "model_id": "8e45d5bd6eaf44768bfa3dd27c174a84",
       "version_major": 2,
       "version_minor": 0
      },
      "text/plain": [
       "interactive(children=(Dropdown(description='Characteristic', options=('Population', 'Labour force', 'Employmen…"
      ]
     },
     "metadata": {},
     "output_type": "display_data"
    }
   ],
   "source": [
    "def plot_labour(Characteristic, Sex, Age_Group):\n",
    "    filter_1 = (df_labour[\"Characteristics\"] == Characteristic)\n",
    "    filter_2 = (df_labour[\"Sex\"] == Sex)\n",
    "    filter_3 = (df_labour[\"Age group\"] == Age_Group)\n",
    "    filter_ = filter_1 & filter_2 & filter_3\n",
    "    df_selection = df_labour[filter_]\n",
    "    \n",
    "    plt.plot(df_selection[\"Date\"], df_selection[\"Value\"])\n",
    "    plt.xticks(range(0, 12*5 + 1, 12), [\"2015-02\", \"2016-02\", \"2017-02\", \"2018-02\", \"2019-02\", \"2020-02\"])\n",
    "    plt.title(\"{} for {} in {} group\".format(Characteristic, Sex, Age_Group))\n",
    "    if(df_selection[\"SCALAR_ID\"].iloc[0] == 3):\n",
    "        plt.ylabel(\"{} (x1000)\".format(Characteristic))\n",
    "    else:\n",
    "        plt.ylabel(\"{}\".format(Characteristic))\n",
    "\n",
    "_ = interact(plot_labour, Characteristic = df_labour[\"Characteristics\"].unique(), Sex = df_labour[\"Sex\"].unique(), \n",
    "             Age_Group = df_labour[\"Age group\"].unique())\n",
    "\n"
   ]
  },
  {
   "cell_type": "markdown",
   "metadata": {
    "hideCode": false,
    "hidePrompt": false
   },
   "source": [
    "## Part 3a: Job skills with keyword analysis\n",
    "\n",
    "Next, we take a look at the job skills dataframe. "
   ]
  },
  {
   "cell_type": "code",
   "execution_count": 14,
   "metadata": {
    "hideCode": false,
    "hidePrompt": false
   },
   "outputs": [],
   "source": [
    "df_jobs = pd.read_csv(\"job_skills.csv\")"
   ]
  },
  {
   "cell_type": "code",
   "execution_count": 15,
   "metadata": {
    "hideCode": false,
    "hidePrompt": false
   },
   "outputs": [
    {
     "data": {
      "text/html": [
       "<div>\n",
       "<style scoped>\n",
       "    .dataframe tbody tr th:only-of-type {\n",
       "        vertical-align: middle;\n",
       "    }\n",
       "\n",
       "    .dataframe tbody tr th {\n",
       "        vertical-align: top;\n",
       "    }\n",
       "\n",
       "    .dataframe thead th {\n",
       "        text-align: right;\n",
       "    }\n",
       "</style>\n",
       "<table border=\"1\" class=\"dataframe\">\n",
       "  <thead>\n",
       "    <tr style=\"text-align: right;\">\n",
       "      <th></th>\n",
       "      <th>Company</th>\n",
       "      <th>Title</th>\n",
       "      <th>Category</th>\n",
       "      <th>Location</th>\n",
       "      <th>Responsibilities</th>\n",
       "      <th>Minimum Qualifications</th>\n",
       "      <th>Preferred Qualifications</th>\n",
       "    </tr>\n",
       "  </thead>\n",
       "  <tbody>\n",
       "    <tr>\n",
       "      <th>680</th>\n",
       "      <td>Google</td>\n",
       "      <td>Partner Marketing Manager, Google Cloud Market...</td>\n",
       "      <td>Marketing &amp; Communications</td>\n",
       "      <td>Tokyo, Japan</td>\n",
       "      <td>Develop and manage the partner marketing strat...</td>\n",
       "      <td>BA/BS degree or equivalent practical experienc...</td>\n",
       "      <td>Experience working with and selling via online...</td>\n",
       "    </tr>\n",
       "    <tr>\n",
       "      <th>1102</th>\n",
       "      <td>Google</td>\n",
       "      <td>HR Business Partner, Employee Relations</td>\n",
       "      <td>People Operations</td>\n",
       "      <td>Dublin, Ireland</td>\n",
       "      <td>Partner with the other Global Investigations t...</td>\n",
       "      <td>BA/BS degree or equivalent practical experienc...</td>\n",
       "      <td>CIPD qualification or equivalent.\\nExperience ...</td>\n",
       "    </tr>\n",
       "    <tr>\n",
       "      <th>394</th>\n",
       "      <td>Google</td>\n",
       "      <td>App Specialist LCS (CEE), App Developer Sales,...</td>\n",
       "      <td>Sales &amp; Account Management</td>\n",
       "      <td>Dublin, Ireland</td>\n",
       "      <td>Assist LCS teams to identify and promote oppor...</td>\n",
       "      <td>BA/BS degree or equivalent practical experienc...</td>\n",
       "      <td>Experience advising customers on mobile app st...</td>\n",
       "    </tr>\n",
       "    <tr>\n",
       "      <th>930</th>\n",
       "      <td>Google</td>\n",
       "      <td>Go-to-Market Lead, Southeast Asia/India Partne...</td>\n",
       "      <td>Business Strategy</td>\n",
       "      <td>Singapore</td>\n",
       "      <td>Work with the SEA leadership team on business ...</td>\n",
       "      <td>6 years of experience in strategic management ...</td>\n",
       "      <td>Successful track record of developing business...</td>\n",
       "    </tr>\n",
       "    <tr>\n",
       "      <th>497</th>\n",
       "      <td>Google</td>\n",
       "      <td>Field Sales Representative, Google Cloud</td>\n",
       "      <td>Sales &amp; Account Management</td>\n",
       "      <td>Chicago, IL, United States</td>\n",
       "      <td>Build and maintain executive relationships wit...</td>\n",
       "      <td>BA/BS degree or equivalent practical experienc...</td>\n",
       "      <td>10 years of experience selling IaaS or PaaS wi...</td>\n",
       "    </tr>\n",
       "  </tbody>\n",
       "</table>\n",
       "</div>"
      ],
      "text/plain": [
       "     Company                                              Title  \\\n",
       "680   Google  Partner Marketing Manager, Google Cloud Market...   \n",
       "1102  Google            HR Business Partner, Employee Relations   \n",
       "394   Google  App Specialist LCS (CEE), App Developer Sales,...   \n",
       "930   Google  Go-to-Market Lead, Southeast Asia/India Partne...   \n",
       "497   Google           Field Sales Representative, Google Cloud   \n",
       "\n",
       "                        Category                    Location  \\\n",
       "680   Marketing & Communications                Tokyo, Japan   \n",
       "1102           People Operations             Dublin, Ireland   \n",
       "394   Sales & Account Management             Dublin, Ireland   \n",
       "930            Business Strategy                   Singapore   \n",
       "497   Sales & Account Management  Chicago, IL, United States   \n",
       "\n",
       "                                       Responsibilities  \\\n",
       "680   Develop and manage the partner marketing strat...   \n",
       "1102  Partner with the other Global Investigations t...   \n",
       "394   Assist LCS teams to identify and promote oppor...   \n",
       "930   Work with the SEA leadership team on business ...   \n",
       "497   Build and maintain executive relationships wit...   \n",
       "\n",
       "                                 Minimum Qualifications  \\\n",
       "680   BA/BS degree or equivalent practical experienc...   \n",
       "1102  BA/BS degree or equivalent practical experienc...   \n",
       "394   BA/BS degree or equivalent practical experienc...   \n",
       "930   6 years of experience in strategic management ...   \n",
       "497   BA/BS degree or equivalent practical experienc...   \n",
       "\n",
       "                               Preferred Qualifications  \n",
       "680   Experience working with and selling via online...  \n",
       "1102  CIPD qualification or equivalent.\\nExperience ...  \n",
       "394   Experience advising customers on mobile app st...  \n",
       "930   Successful track record of developing business...  \n",
       "497   10 years of experience selling IaaS or PaaS wi...  "
      ]
     },
     "execution_count": 15,
     "metadata": {},
     "output_type": "execute_result"
    }
   ],
   "source": [
    "df_jobs.sample(5, random_state=42)"
   ]
  },
  {
   "cell_type": "markdown",
   "metadata": {
    "hideCode": false,
    "hidePrompt": false
   },
   "source": [
    "We will be using the responsibilities field to identify the industry each job belongs to. To do this, we will be using nltk to extract key words."
   ]
  },
  {
   "cell_type": "code",
   "execution_count": 16,
   "metadata": {
    "hideCode": false,
    "hidePrompt": false
   },
   "outputs": [
    {
     "name": "stdout",
     "output_type": "stream",
     "text": [
      "Shape, shepherd, ship, and show technical programs designed to support the work of Cloud Customer Engineers and Solutions Architects.\n",
      "Measure and report on key metrics tied to those programs to identify any need to change course, cancel, or scale the programs from a regional to global platform.\n",
      "Communicate status and identify any obstacles and paths for resolution to stakeholders, including those in senior roles, in a transparent, regular, professional and timely manner.\n",
      "Establish expectations and rationale on deliverables for stakeholders and program contributors.\n",
      "Provide program performance feedback to teams in Product, Engineering, Sales, and Marketing (among others) to enable efficient cross-team operations.\n"
     ]
    }
   ],
   "source": [
    "print(df_jobs[\"Responsibilities\"].iloc[0])"
   ]
  },
  {
   "cell_type": "code",
   "execution_count": 17,
   "metadata": {
    "hideCode": false,
    "hidePrompt": false
   },
   "outputs": [
    {
     "data": {
      "text/plain": [
       "Company                      0\n",
       "Title                        0\n",
       "Category                     0\n",
       "Location                     0\n",
       "Responsibilities            15\n",
       "Minimum Qualifications      14\n",
       "Preferred Qualifications    14\n",
       "dtype: int64"
      ]
     },
     "execution_count": 17,
     "metadata": {},
     "output_type": "execute_result"
    }
   ],
   "source": [
    "# Getting rid of missing values.\n",
    "df_jobs.isna().sum()"
   ]
  },
  {
   "cell_type": "code",
   "execution_count": 18,
   "metadata": {
    "hideCode": false,
    "hidePrompt": false
   },
   "outputs": [
    {
     "data": {
      "text/html": [
       "<div>\n",
       "<style scoped>\n",
       "    .dataframe tbody tr th:only-of-type {\n",
       "        vertical-align: middle;\n",
       "    }\n",
       "\n",
       "    .dataframe tbody tr th {\n",
       "        vertical-align: top;\n",
       "    }\n",
       "\n",
       "    .dataframe thead th {\n",
       "        text-align: right;\n",
       "    }\n",
       "</style>\n",
       "<table border=\"1\" class=\"dataframe\">\n",
       "  <thead>\n",
       "    <tr style=\"text-align: right;\">\n",
       "      <th></th>\n",
       "      <th>Company</th>\n",
       "      <th>Title</th>\n",
       "      <th>Category</th>\n",
       "      <th>Location</th>\n",
       "      <th>Responsibilities</th>\n",
       "      <th>Minimum Qualifications</th>\n",
       "      <th>Preferred Qualifications</th>\n",
       "    </tr>\n",
       "  </thead>\n",
       "  <tbody>\n",
       "    <tr>\n",
       "      <th>15</th>\n",
       "      <td>Google</td>\n",
       "      <td>Manufacturing Test Engineer</td>\n",
       "      <td>Hardware Engineering</td>\n",
       "      <td>South San Francisco, CA, United States</td>\n",
       "      <td>NaN</td>\n",
       "      <td>NaN</td>\n",
       "      <td>NaN</td>\n",
       "    </tr>\n",
       "    <tr>\n",
       "      <th>72</th>\n",
       "      <td>Google</td>\n",
       "      <td>Software Engineer, Android Applications, Veril...</td>\n",
       "      <td>Software Engineering</td>\n",
       "      <td>Cambridge, MA, United States</td>\n",
       "      <td>NaN</td>\n",
       "      <td>NaN</td>\n",
       "      <td>NaN</td>\n",
       "    </tr>\n",
       "    <tr>\n",
       "      <th>91</th>\n",
       "      <td>Google</td>\n",
       "      <td>Analog / Mixed Signal IC Design Engineer, Veri...</td>\n",
       "      <td>Hardware Engineering</td>\n",
       "      <td>South San Francisco, CA, United States</td>\n",
       "      <td>NaN</td>\n",
       "      <td>NaN</td>\n",
       "      <td>NaN</td>\n",
       "    </tr>\n",
       "    <tr>\n",
       "      <th>97</th>\n",
       "      <td>Google</td>\n",
       "      <td>Program Manager, Behavioral Health, Verily Lif...</td>\n",
       "      <td>Program Management</td>\n",
       "      <td>South San Francisco, CA, United States</td>\n",
       "      <td>NaN</td>\n",
       "      <td>NaN</td>\n",
       "      <td>NaN</td>\n",
       "    </tr>\n",
       "    <tr>\n",
       "      <th>98</th>\n",
       "      <td>Google</td>\n",
       "      <td>Software Engineer, Android Applications, Veril...</td>\n",
       "      <td>Software Engineering</td>\n",
       "      <td>South San Francisco, CA, United States</td>\n",
       "      <td>NaN</td>\n",
       "      <td>NaN</td>\n",
       "      <td>NaN</td>\n",
       "    </tr>\n",
       "    <tr>\n",
       "      <th>123</th>\n",
       "      <td>Google</td>\n",
       "      <td>Manufacturing Engineer, Verily Life Sciences -...</td>\n",
       "      <td>Hardware Engineering</td>\n",
       "      <td>South San Francisco, CA, United States</td>\n",
       "      <td>NaN</td>\n",
       "      <td>NaN</td>\n",
       "      <td>NaN</td>\n",
       "    </tr>\n",
       "    <tr>\n",
       "      <th>150</th>\n",
       "      <td>Google</td>\n",
       "      <td>IC Test Engineer, Verily Life Sciences - South...</td>\n",
       "      <td>Hardware Engineering</td>\n",
       "      <td>South San Francisco, CA, United States</td>\n",
       "      <td>NaN</td>\n",
       "      <td>NaN</td>\n",
       "      <td>NaN</td>\n",
       "    </tr>\n",
       "    <tr>\n",
       "      <th>160</th>\n",
       "      <td>Google</td>\n",
       "      <td>Software Engineer, Verily Life Sciences - Sout...</td>\n",
       "      <td>Software Engineering</td>\n",
       "      <td>South San Francisco, CA, United States</td>\n",
       "      <td>NaN</td>\n",
       "      <td>NaN</td>\n",
       "      <td>NaN</td>\n",
       "    </tr>\n",
       "    <tr>\n",
       "      <th>202</th>\n",
       "      <td>Google</td>\n",
       "      <td>Firmware Engineer, Verily Life Sciences - Sout...</td>\n",
       "      <td>Software Engineering</td>\n",
       "      <td>South San Francisco, CA, United States</td>\n",
       "      <td>NaN</td>\n",
       "      <td>NaN</td>\n",
       "      <td>NaN</td>\n",
       "    </tr>\n",
       "    <tr>\n",
       "      <th>206</th>\n",
       "      <td>Google</td>\n",
       "      <td>Software Test Engineer, Mobile and Web Applica...</td>\n",
       "      <td>Software Engineering</td>\n",
       "      <td>Mountain View, CA, United States</td>\n",
       "      <td>NaN</td>\n",
       "      <td>NaN</td>\n",
       "      <td>NaN</td>\n",
       "    </tr>\n",
       "    <tr>\n",
       "      <th>210</th>\n",
       "      <td>Google</td>\n",
       "      <td>iOS Application Developer, Project Baseline, V...</td>\n",
       "      <td>Software Engineering</td>\n",
       "      <td>Mountain View, CA, United States</td>\n",
       "      <td>NaN</td>\n",
       "      <td>NaN</td>\n",
       "      <td>NaN</td>\n",
       "    </tr>\n",
       "    <tr>\n",
       "      <th>230</th>\n",
       "      <td>Google</td>\n",
       "      <td>Technical Solutions Consultant, Verily Life Sc...</td>\n",
       "      <td>Technical Solutions</td>\n",
       "      <td>Mountain View, CA, United States</td>\n",
       "      <td>NaN</td>\n",
       "      <td>NaN</td>\n",
       "      <td>NaN</td>\n",
       "    </tr>\n",
       "    <tr>\n",
       "      <th>241</th>\n",
       "      <td>Google</td>\n",
       "      <td>Technical Program Manager, Test Engineering, V...</td>\n",
       "      <td>Program Management</td>\n",
       "      <td>South San Francisco, CA, United States</td>\n",
       "      <td>NaN</td>\n",
       "      <td>NaN</td>\n",
       "      <td>NaN</td>\n",
       "    </tr>\n",
       "    <tr>\n",
       "      <th>286</th>\n",
       "      <td>Google</td>\n",
       "      <td>Software Test Engineer, Devices, Verily Life S...</td>\n",
       "      <td>Software Engineering</td>\n",
       "      <td>South San Francisco, CA, United States</td>\n",
       "      <td>NaN</td>\n",
       "      <td>NaN</td>\n",
       "      <td>NaN</td>\n",
       "    </tr>\n",
       "    <tr>\n",
       "      <th>307</th>\n",
       "      <td>Google</td>\n",
       "      <td>Strategic Partner Development Manager, Retail ...</td>\n",
       "      <td>Partnerships</td>\n",
       "      <td>München, Germany</td>\n",
       "      <td>NaN</td>\n",
       "      <td>BA/BS degree or equivalent practical experienc...</td>\n",
       "      <td>Relevant experience in sales management, busin...</td>\n",
       "    </tr>\n",
       "  </tbody>\n",
       "</table>\n",
       "</div>"
      ],
      "text/plain": [
       "    Company                                              Title  \\\n",
       "15   Google                        Manufacturing Test Engineer   \n",
       "72   Google  Software Engineer, Android Applications, Veril...   \n",
       "91   Google  Analog / Mixed Signal IC Design Engineer, Veri...   \n",
       "97   Google  Program Manager, Behavioral Health, Verily Lif...   \n",
       "98   Google  Software Engineer, Android Applications, Veril...   \n",
       "123  Google  Manufacturing Engineer, Verily Life Sciences -...   \n",
       "150  Google  IC Test Engineer, Verily Life Sciences - South...   \n",
       "160  Google  Software Engineer, Verily Life Sciences - Sout...   \n",
       "202  Google  Firmware Engineer, Verily Life Sciences - Sout...   \n",
       "206  Google  Software Test Engineer, Mobile and Web Applica...   \n",
       "210  Google  iOS Application Developer, Project Baseline, V...   \n",
       "230  Google  Technical Solutions Consultant, Verily Life Sc...   \n",
       "241  Google  Technical Program Manager, Test Engineering, V...   \n",
       "286  Google  Software Test Engineer, Devices, Verily Life S...   \n",
       "307  Google  Strategic Partner Development Manager, Retail ...   \n",
       "\n",
       "                 Category                                Location  \\\n",
       "15   Hardware Engineering  South San Francisco, CA, United States   \n",
       "72   Software Engineering            Cambridge, MA, United States   \n",
       "91   Hardware Engineering  South San Francisco, CA, United States   \n",
       "97     Program Management  South San Francisco, CA, United States   \n",
       "98   Software Engineering  South San Francisco, CA, United States   \n",
       "123  Hardware Engineering  South San Francisco, CA, United States   \n",
       "150  Hardware Engineering  South San Francisco, CA, United States   \n",
       "160  Software Engineering  South San Francisco, CA, United States   \n",
       "202  Software Engineering  South San Francisco, CA, United States   \n",
       "206  Software Engineering        Mountain View, CA, United States   \n",
       "210  Software Engineering        Mountain View, CA, United States   \n",
       "230   Technical Solutions        Mountain View, CA, United States   \n",
       "241    Program Management  South San Francisco, CA, United States   \n",
       "286  Software Engineering  South San Francisco, CA, United States   \n",
       "307          Partnerships                        München, Germany   \n",
       "\n",
       "    Responsibilities                             Minimum Qualifications  \\\n",
       "15               NaN                                                NaN   \n",
       "72               NaN                                                NaN   \n",
       "91               NaN                                                NaN   \n",
       "97               NaN                                                NaN   \n",
       "98               NaN                                                NaN   \n",
       "123              NaN                                                NaN   \n",
       "150              NaN                                                NaN   \n",
       "160              NaN                                                NaN   \n",
       "202              NaN                                                NaN   \n",
       "206              NaN                                                NaN   \n",
       "210              NaN                                                NaN   \n",
       "230              NaN                                                NaN   \n",
       "241              NaN                                                NaN   \n",
       "286              NaN                                                NaN   \n",
       "307              NaN  BA/BS degree or equivalent practical experienc...   \n",
       "\n",
       "                              Preferred Qualifications  \n",
       "15                                                 NaN  \n",
       "72                                                 NaN  \n",
       "91                                                 NaN  \n",
       "97                                                 NaN  \n",
       "98                                                 NaN  \n",
       "123                                                NaN  \n",
       "150                                                NaN  \n",
       "160                                                NaN  \n",
       "202                                                NaN  \n",
       "206                                                NaN  \n",
       "210                                                NaN  \n",
       "230                                                NaN  \n",
       "241                                                NaN  \n",
       "286                                                NaN  \n",
       "307  Relevant experience in sales management, busin...  "
      ]
     },
     "execution_count": 18,
     "metadata": {},
     "output_type": "execute_result"
    }
   ],
   "source": [
    "df_jobs[df_jobs[\"Responsibilities\"].isna()]"
   ]
  },
  {
   "cell_type": "markdown",
   "metadata": {
    "hideCode": false,
    "hidePrompt": false
   },
   "source": [
    "Since there are little jobs that have missing values, it will be safe to get rid of them to ease the analysis process. "
   ]
  },
  {
   "cell_type": "code",
   "execution_count": 19,
   "metadata": {
    "hideCode": false,
    "hidePrompt": false
   },
   "outputs": [],
   "source": [
    "df_jobs.dropna(inplace=True)"
   ]
  },
  {
   "cell_type": "markdown",
   "metadata": {
    "hideCode": false,
    "hidePrompt": false
   },
   "source": [
    "Whilst performing some analysis, I noticed that one of the entries is not in english. We will remove this as well. "
   ]
  },
  {
   "cell_type": "code",
   "execution_count": 20,
   "metadata": {
    "hideCode": false,
    "hidePrompt": false
   },
   "outputs": [
    {
     "data": {
      "text/html": [
       "<div>\n",
       "<style scoped>\n",
       "    .dataframe tbody tr th:only-of-type {\n",
       "        vertical-align: middle;\n",
       "    }\n",
       "\n",
       "    .dataframe tbody tr th {\n",
       "        vertical-align: top;\n",
       "    }\n",
       "\n",
       "    .dataframe thead th {\n",
       "        text-align: right;\n",
       "    }\n",
       "</style>\n",
       "<table border=\"1\" class=\"dataframe\">\n",
       "  <thead>\n",
       "    <tr style=\"text-align: right;\">\n",
       "      <th></th>\n",
       "      <th>Company</th>\n",
       "      <th>Title</th>\n",
       "      <th>Category</th>\n",
       "      <th>Location</th>\n",
       "      <th>Responsibilities</th>\n",
       "      <th>Minimum Qualifications</th>\n",
       "      <th>Preferred Qualifications</th>\n",
       "    </tr>\n",
       "  </thead>\n",
       "  <tbody>\n",
       "    <tr>\n",
       "      <th>100</th>\n",
       "      <td>Google</td>\n",
       "      <td>ソフトウェア エンジニア、Chrome OS ビデオ</td>\n",
       "      <td>Software Engineering</td>\n",
       "      <td>Tokyo, Japan</td>\n",
       "      <td>デバイス、ドライバに加え、Chrome OS、Android などの Linux ベースシス...</td>\n",
       "      <td>コンピュータ サイエンスまたは関連する技術分野で学士号を取得していること（関連職種での実務経...</td>\n",
       "      <td>コンピュータ サイエンスまたは関連する技術分野での修士号または博士号\\nドメインに関する知識...</td>\n",
       "    </tr>\n",
       "  </tbody>\n",
       "</table>\n",
       "</div>"
      ],
      "text/plain": [
       "    Company                       Title              Category      Location  \\\n",
       "100  Google  ソフトウェア エンジニア、Chrome OS ビデオ  Software Engineering  Tokyo, Japan   \n",
       "\n",
       "                                      Responsibilities  \\\n",
       "100  デバイス、ドライバに加え、Chrome OS、Android などの Linux ベースシス...   \n",
       "\n",
       "                                Minimum Qualifications  \\\n",
       "100  コンピュータ サイエンスまたは関連する技術分野で学士号を取得していること（関連職種での実務経...   \n",
       "\n",
       "                              Preferred Qualifications  \n",
       "100  コンピュータ サイエンスまたは関連する技術分野での修士号または博士号\\nドメインに関する知識...  "
      ]
     },
     "execution_count": 20,
     "metadata": {},
     "output_type": "execute_result"
    }
   ],
   "source": [
    "english_filter = df_jobs[\"Responsibilities\"].str.match(\"[a-zA-Z\\s]\")\n",
    "df_jobs[~english_filter]"
   ]
  },
  {
   "cell_type": "code",
   "execution_count": 21,
   "metadata": {
    "hideCode": false,
    "hidePrompt": false
   },
   "outputs": [],
   "source": [
    "df_jobs = df_jobs[english_filter].copy()"
   ]
  },
  {
   "cell_type": "markdown",
   "metadata": {},
   "source": [
    "We also notice that there are several duplicate jobs. Here is one example:"
   ]
  },
  {
   "cell_type": "code",
   "execution_count": 22,
   "metadata": {},
   "outputs": [
    {
     "data": {
      "text/html": [
       "<div>\n",
       "<style scoped>\n",
       "    .dataframe tbody tr th:only-of-type {\n",
       "        vertical-align: middle;\n",
       "    }\n",
       "\n",
       "    .dataframe tbody tr th {\n",
       "        vertical-align: top;\n",
       "    }\n",
       "\n",
       "    .dataframe thead th {\n",
       "        text-align: right;\n",
       "    }\n",
       "</style>\n",
       "<table border=\"1\" class=\"dataframe\">\n",
       "  <thead>\n",
       "    <tr style=\"text-align: right;\">\n",
       "      <th></th>\n",
       "      <th>Company</th>\n",
       "      <th>Title</th>\n",
       "      <th>Category</th>\n",
       "      <th>Location</th>\n",
       "      <th>Responsibilities</th>\n",
       "      <th>Minimum Qualifications</th>\n",
       "      <th>Preferred Qualifications</th>\n",
       "    </tr>\n",
       "  </thead>\n",
       "  <tbody>\n",
       "    <tr>\n",
       "      <th>618</th>\n",
       "      <td>Google</td>\n",
       "      <td>MBA Intern 2018</td>\n",
       "      <td>Administrative</td>\n",
       "      <td>Xinyi District, Taiwan</td>\n",
       "      <td>Intern projects will be determined based on th...</td>\n",
       "      <td>Must be a first year student in a two year ful...</td>\n",
       "      <td>Work experience prior to the MBA program in Sa...</td>\n",
       "    </tr>\n",
       "    <tr>\n",
       "      <th>634</th>\n",
       "      <td>Google</td>\n",
       "      <td>MBA Intern 2018</td>\n",
       "      <td>Administrative</td>\n",
       "      <td>Singapore</td>\n",
       "      <td>Intern projects will be determined based on th...</td>\n",
       "      <td>Must be a first year student in a two year ful...</td>\n",
       "      <td>Work experience prior to the MBA program in Sa...</td>\n",
       "    </tr>\n",
       "    <tr>\n",
       "      <th>675</th>\n",
       "      <td>Google</td>\n",
       "      <td>MBA Intern 2018</td>\n",
       "      <td>Administrative</td>\n",
       "      <td>Beijing, China</td>\n",
       "      <td>Intern projects will be determined based on th...</td>\n",
       "      <td>Must be a first year student in a two year ful...</td>\n",
       "      <td>Work experience prior to the MBA program in Sa...</td>\n",
       "    </tr>\n",
       "    <tr>\n",
       "      <th>684</th>\n",
       "      <td>Google</td>\n",
       "      <td>MBA Intern 2018</td>\n",
       "      <td>Administrative</td>\n",
       "      <td>Bangkok, Thailand</td>\n",
       "      <td>Intern projects will be determined based on th...</td>\n",
       "      <td>Must be a first year student in a two year ful...</td>\n",
       "      <td>Work experience prior to the MBA program in Sa...</td>\n",
       "    </tr>\n",
       "  </tbody>\n",
       "</table>\n",
       "</div>"
      ],
      "text/plain": [
       "    Company            Title        Category                Location  \\\n",
       "618  Google  MBA Intern 2018  Administrative  Xinyi District, Taiwan   \n",
       "634  Google  MBA Intern 2018  Administrative               Singapore   \n",
       "675  Google  MBA Intern 2018  Administrative          Beijing, China   \n",
       "684  Google  MBA Intern 2018  Administrative       Bangkok, Thailand   \n",
       "\n",
       "                                      Responsibilities  \\\n",
       "618  Intern projects will be determined based on th...   \n",
       "634  Intern projects will be determined based on th...   \n",
       "675  Intern projects will be determined based on th...   \n",
       "684  Intern projects will be determined based on th...   \n",
       "\n",
       "                                Minimum Qualifications  \\\n",
       "618  Must be a first year student in a two year ful...   \n",
       "634  Must be a first year student in a two year ful...   \n",
       "675  Must be a first year student in a two year ful...   \n",
       "684  Must be a first year student in a two year ful...   \n",
       "\n",
       "                              Preferred Qualifications  \n",
       "618  Work experience prior to the MBA program in Sa...  \n",
       "634  Work experience prior to the MBA program in Sa...  \n",
       "675  Work experience prior to the MBA program in Sa...  \n",
       "684  Work experience prior to the MBA program in Sa...  "
      ]
     },
     "execution_count": 22,
     "metadata": {},
     "output_type": "execute_result"
    }
   ],
   "source": [
    "df_jobs[df_jobs[\"Title\"] == \"MBA Intern 2018\"].head(4)"
   ]
  },
  {
   "cell_type": "markdown",
   "metadata": {},
   "source": [
    "We will be removing duplicate rows from the dataset, and store a version with all jobs inside another dataframe."
   ]
  },
  {
   "cell_type": "code",
   "execution_count": 23,
   "metadata": {},
   "outputs": [],
   "source": [
    "df_jobs_all = df_jobs.copy()\n",
    "df_jobs.drop_duplicates([\"Responsibilities\"], inplace=True)"
   ]
  },
  {
   "cell_type": "markdown",
   "metadata": {
    "hideCode": false,
    "hidePrompt": false
   },
   "source": [
    "We will be performing keyword extraction with nltk and sklearn. First however, we will need to do some preprocessing. We will tokenize each text and use lemmatization to get a cleaner data set. Then, we will use the TF-IDF vectorizer to help find keywords. "
   ]
  },
  {
   "cell_type": "code",
   "execution_count": 24,
   "metadata": {
    "hideCode": false,
    "hidePrompt": false
   },
   "outputs": [],
   "source": [
    "import nltk\n",
    "from nltk.corpus import stopwords, wordnet\n",
    "from nltk.stem.porter import PorterStemmer\n",
    "from nltk.stem.wordnet import WordNetLemmatizer\n",
    "from nltk.tokenize import word_tokenize\n",
    "from sklearn.feature_extraction.text import TfidfVectorizer"
   ]
  },
  {
   "cell_type": "code",
   "execution_count": 25,
   "metadata": {
    "hideCode": false,
    "hidePrompt": false
   },
   "outputs": [],
   "source": [
    "from sklearn.cluster import KMeans\n",
    "from sklearn.decomposition import PCA"
   ]
  },
  {
   "cell_type": "code",
   "execution_count": 26,
   "metadata": {
    "hideCode": false,
    "hidePrompt": false
   },
   "outputs": [],
   "source": [
    "# Code from https://medium.com/@gaurav5430/using-nltk-for-lemmatizing-sentences-c1bfff963258\n",
    "\n",
    "def nltk_tag_to_wordnet_tag(nltk_tag):\n",
    "    if nltk_tag.startswith('J'):\n",
    "        return wordnet.ADJ\n",
    "    elif nltk_tag.startswith('V'):\n",
    "        return wordnet.VERB\n",
    "    elif nltk_tag.startswith('N'):\n",
    "        return wordnet.NOUN\n",
    "    elif nltk_tag.startswith('R'):\n",
    "        return wordnet.ADV\n",
    "    else:          \n",
    "        return None"
   ]
  },
  {
   "cell_type": "code",
   "execution_count": 27,
   "metadata": {
    "hideCode": false,
    "hidePrompt": false
   },
   "outputs": [],
   "source": [
    "lem = WordNetLemmatizer()\n",
    "\n",
    "def lemmatize(text):\n",
    "    clean = re.sub(\"[^\\w\\s]|\\\\n\", \" \", text) #Get rid of punctuation and newline.\n",
    "    token = word_tokenize(clean)\n",
    "    pos = nltk.pos_tag(token)\n",
    "    res = [(word, nltk_tag_to_wordnet_tag(tag)) for word, tag in pos]\n",
    "    new_words = [lem.lemmatize(word, pos=tag) for word, tag in res if tag is not None]\n",
    "    text = \"\"\n",
    "    for word in new_words:\n",
    "        text += (word + \" \")\n",
    "    return text"
   ]
  },
  {
   "cell_type": "code",
   "execution_count": 28,
   "metadata": {
    "hideCode": false,
    "hidePrompt": false
   },
   "outputs": [],
   "source": [
    "df_jobs_tfidf = df_jobs[[\"Title\", \"Category\", \"Responsibilities\"]].copy()"
   ]
  },
  {
   "cell_type": "code",
   "execution_count": 29,
   "metadata": {
    "hideCode": false,
    "hidePrompt": false
   },
   "outputs": [],
   "source": [
    "df_jobs_tfidf[\"Res_clean\"] = df_jobs_tfidf[\"Responsibilities\"].apply(lemmatize)"
   ]
  },
  {
   "cell_type": "code",
   "execution_count": 30,
   "metadata": {
    "hideCode": false,
    "hidePrompt": false
   },
   "outputs": [],
   "source": [
    "vectorizer = TfidfVectorizer(stop_words = set(stopwords.words('english')))\n",
    "result = vectorizer.fit_transform(df_jobs_tfidf[\"Res_clean\"])"
   ]
  },
  {
   "cell_type": "code",
   "execution_count": 31,
   "metadata": {
    "hideCode": false,
    "hidePrompt": false
   },
   "outputs": [],
   "source": [
    "word_vector = pd.Series(vectorizer.get_feature_names())\n",
    "NUM_KEYWORDS = 8"
   ]
  },
  {
   "cell_type": "code",
   "execution_count": 32,
   "metadata": {
    "hideCode": false,
    "hidePrompt": false
   },
   "outputs": [
    {
     "name": "stdout",
     "output_type": "stream",
     "text": [
      "The identified keywords for the first job in the job_skills dataset is:\n"
     ]
    },
    {
     "data": {
      "text/plain": [
       "2118        program\n",
       "190      architects\n",
       "380          cancel\n",
       "2829    transparent\n",
       "625     contributor\n",
       "2209      rationale\n",
       "2485       shepherd\n",
       "2487           ship\n",
       "dtype: object"
      ]
     },
     "execution_count": 32,
     "metadata": {},
     "output_type": "execute_result"
    }
   ],
   "source": [
    "print(\"The identified keywords for the first job in the job_skills dataset is:\")\n",
    "\n",
    "word_vector.iloc[pd.Series(result[0].toarray().flatten()).nlargest(NUM_KEYWORDS).index]"
   ]
  },
  {
   "cell_type": "code",
   "execution_count": 33,
   "metadata": {
    "hideCode": false,
    "hidePrompt": false
   },
   "outputs": [],
   "source": [
    "result_small = np.zeros(result.shape)\n",
    "for i in range(result.shape[0]):\n",
    "    for index in pd.Series(result[i].toarray().flatten()).nlargest(NUM_KEYWORDS).index:\n",
    "        result_small[i, index] = result[i, index]"
   ]
  },
  {
   "cell_type": "markdown",
   "metadata": {
    "hideCode": false,
    "hidePrompt": false
   },
   "source": [
    "Next, we can use k-means clustering to group together different jobs, then find the different centroids. "
   ]
  },
  {
   "cell_type": "code",
   "execution_count": 34,
   "metadata": {
    "hideCode": false,
    "hidePrompt": false
   },
   "outputs": [
    {
     "data": {
      "image/png": "[encoded data removed]",
      "text/plain": [
       "<Figure size 1080x504 with 1 Axes>"
      ]
     },
     "metadata": {},
     "output_type": "display_data"
    }
   ],
   "source": [
    "# Elbow method from https://towardsdatascience.com/k-means-clustering-with-scikit-learn-6b47a369a83c\n",
    "\n",
    "# Takes a while to run, so enjoy a nice coffee while running this if you're curious. \n",
    "# calculate distortion for a range of number of cluster\n",
    "distortions = []\n",
    "for i in range(1, 6):\n",
    "    km = KMeans(\n",
    "        n_clusters=i, init='random',\n",
    "        n_init=10, max_iter=300,\n",
    "        tol=1e-04, random_state=0\n",
    "    )\n",
    "    km.fit(result_small)\n",
    "    distortions.append(km.inertia_)\n",
    "\n",
    "# plot\n",
    "plt.plot(range(1, 6), distortions, marker='o')\n",
    "plt.xlabel('Number of clusters')\n",
    "plt.ylabel('Distortion')\n",
    "tit = plt.title(\"Elbow method for K means\")"
   ]
  },
  {
   "cell_type": "markdown",
   "metadata": {
    "hideCode": false,
    "hidePrompt": false
   },
   "source": [
    "Based on the graph above, the elbow is rather hard to discern. For now, we will be using 3 clusters. Further investigation can be done in the future. "
   ]
  },
  {
   "cell_type": "markdown",
   "metadata": {},
   "source": [
    "We can then show the job categories captured by the clusters."
   ]
  },
  {
   "cell_type": "code",
   "execution_count": 35,
   "metadata": {
    "hideCode": false,
    "hidePrompt": false
   },
   "outputs": [],
   "source": [
    "cluster = KMeans(n_clusters=3, random_state=0, max_iter=300)\n",
    "labels = cluster.fit(result_small)\n",
    "df_jobs_tfidf[\"group\"] = labels.labels_"
   ]
  },
  {
   "cell_type": "code",
   "execution_count": 36,
   "metadata": {
    "hideCode": false,
    "hidePrompt": false
   },
   "outputs": [
    {
     "name": "stdout",
     "output_type": "stream",
     "text": [
      "The keywords for cluster 0 is:\n",
      "1. customer\n",
      "2. business\n",
      "3. advertiser\n",
      "4. technical\n",
      "5. tailor\n",
      "6. phone\n",
      "7. strategic\n",
      "8. consultative\n",
      "The keywords for cluster 1 is:\n",
      "1. partner\n",
      "2. google\n",
      "3. cloud\n",
      "4. service\n",
      "5. joint\n",
      "6. partnership\n",
      "7. business\n",
      "8. day\n",
      "The keywords for cluster 2 is:\n",
      "1. client\n",
      "2. product\n",
      "3. technical\n",
      "4. agency\n",
      "5. user\n",
      "6. policy\n",
      "7. design\n",
      "8. legal\n"
     ]
    }
   ],
   "source": [
    "for i in range(3):\n",
    "    print(\"The keywords for cluster {} is:\".format(i))\n",
    "    j = 1\n",
    "    for word in word_vector.iloc[pd.Series(labels.cluster_centers_[i]).nlargest(NUM_KEYWORDS).index].values:\n",
    "        print(\"{}. {}\".format(j, word))\n",
    "        j+=1\n",
    "    "
   ]
  },
  {
   "cell_type": "code",
   "execution_count": 37,
   "metadata": {},
   "outputs": [],
   "source": [
    "df_graph = pd.DataFrame([0]*23, index=df_jobs[\"Category\"].unique())\n",
    "\n",
    "vals = [df_jobs_tfidf[df_jobs_tfidf[\"group\"] == i][\"Category\"].value_counts(normalize=True) for i in range(3)]\n"
   ]
  },
  {
   "cell_type": "code",
   "execution_count": 38,
   "metadata": {},
   "outputs": [],
   "source": [
    "for i in range(3):\n",
    "    df_graph = df_graph.merge(pd.DataFrame({\"Cluster{}\".format(i) : vals[i]})\n",
    "                              , how=\"outer\", left_index=True, right_index=True)"
   ]
  },
  {
   "cell_type": "code",
   "execution_count": 39,
   "metadata": {},
   "outputs": [
    {
     "data": {
      "image/png": "[encoded data removed]",
      "text/plain": [
       "<Figure size 1080x504 with 1 Axes>"
      ]
     },
     "metadata": {},
     "output_type": "display_data"
    }
   ],
   "source": [
    "graph = df_graph.fillna(0).drop(columns=[0]).plot.barh()\n",
    "plt.xlabel(\"Proportion\")\n",
    "tit = plt.title(\"Categories captured by each cluster\")"
   ]
  },
  {
   "cell_type": "markdown",
   "metadata": {},
   "source": [
    "What we can see in the graph above is that cluster 0 mostly captured Sales & Account Management, whereas cluster 1 captured mostly Partnerships. In future investigations, cluster 2 can be split up even more. \n",
    "\n",
    "I wished that we can use this keyword analysis to be able to deduce which industry each category belongs in, however it seems that since the job skills dataset is rather limited (since it includes only jobs from google and youtube), this was not as effective as it can be. The clustering data above does help to some extent, however. \n",
    "\n",
    "For example, we can see that since cluster 2 captured both Hardware Engineering, Network Engineering and Software Engineering while the other clusters did not, we can deduce that they are similar jobs with similar responsibilities and keywords, and thus belong to the same industry. \n",
    "\n",
    "However, for other jobs such as Markerting & communications where all three clusters captured a rougly equal proportion, we can deduce that the skills and responsibilities in that job are more diverse. \n"
   ]
  },
  {
   "cell_type": "markdown",
   "metadata": {},
   "source": [
    "According to some [sources](https://towardsdatascience.com/the-curse-of-dimensionality-50dc6e49aa1e), using a large dimension clustering method may not be suitable, so maybe we can also implement PCA for the clustering. \n",
    "\n",
    "Below is an attempt of clustering with PCA applied. However, since PCA is applied, we no longer have a representation of what the keywords for each centroid is. "
   ]
  },
  {
   "cell_type": "code",
   "execution_count": 40,
   "metadata": {},
   "outputs": [],
   "source": [
    "pca = PCA(n_components=2)\n",
    "new_result = pca.fit_transform(result_small)"
   ]
  },
  {
   "cell_type": "code",
   "execution_count": 41,
   "metadata": {},
   "outputs": [
    {
     "data": {
      "image/png": "[encoded data removed]",
      "text/plain": [
       "<Figure size 1080x504 with 1 Axes>"
      ]
     },
     "metadata": {},
     "output_type": "display_data"
    }
   ],
   "source": [
    "distortions = []\n",
    "for i in range(1, 10):\n",
    "    km = KMeans(\n",
    "        n_clusters=i, init='random',\n",
    "        n_init=10, max_iter=300,\n",
    "        tol=1e-04, random_state=0\n",
    "    )\n",
    "    km.fit(new_result)\n",
    "    distortions.append(km.inertia_)\n",
    "\n",
    "# plot\n",
    "plt.plot(range(1, 10), distortions, marker='o')\n",
    "plt.xlabel('Number of clusters')\n",
    "plt.ylabel('Distortion')\n",
    "tit = plt.title(\"Elbow method for K means with PCA\")"
   ]
  },
  {
   "cell_type": "markdown",
   "metadata": {},
   "source": [
    "The elbow is more distinct above, and thus we will choose n = 3. "
   ]
  },
  {
   "cell_type": "code",
   "execution_count": 42,
   "metadata": {},
   "outputs": [],
   "source": [
    "cluster = KMeans(n_clusters=3, random_state=0)\n",
    "labels = cluster.fit(new_result)\n",
    "df_jobs_tfidf[\"group_pca\"] = labels.labels_"
   ]
  },
  {
   "cell_type": "code",
   "execution_count": 43,
   "metadata": {},
   "outputs": [
    {
     "data": {
      "image/png": "[encoded data removed]",
      "text/plain": [
       "<Figure size 1080x504 with 1 Axes>"
      ]
     },
     "metadata": {},
     "output_type": "display_data"
    }
   ],
   "source": [
    "df_rep = pd.DataFrame(new_result)\n",
    "df_rep[\"label\"] = labels.labels_\n",
    "for i in range(3):\n",
    "    plt.scatter(df_rep[df_rep[\"label\"] == i][0], df_rep[df_rep[\"label\"] == i][1], label=\"cluster {}\".format(i))\n",
    "    \n",
    "plt.xlabel(\"Component 0\"), plt.ylabel(\"Component 1\")\n",
    "tit, leg = plt.title(\"Representation of each job by PCA\"), plt.legend()"
   ]
  },
  {
   "cell_type": "code",
   "execution_count": 44,
   "metadata": {},
   "outputs": [],
   "source": [
    "df_graph = pd.DataFrame([0]*23, index=df_jobs[\"Category\"].unique())\n",
    "\n",
    "vals = [df_jobs_tfidf[df_jobs_tfidf[\"group_pca\"] == i][\"Category\"].value_counts(normalize=True) for i in range(3)]\n",
    "\n",
    "for i in range(3):\n",
    "    df_graph = df_graph.merge(pd.DataFrame({\"Cluster{}\".format(i) : vals[i]})\n",
    "                              , how=\"outer\", left_index=True, right_index=True)"
   ]
  },
  {
   "cell_type": "code",
   "execution_count": 45,
   "metadata": {},
   "outputs": [
    {
     "data": {
      "image/png": "[encoded data removed]",
      "text/plain": [
       "<Figure size 1080x504 with 1 Axes>"
      ]
     },
     "metadata": {},
     "output_type": "display_data"
    }
   ],
   "source": [
    "graph = df_graph.fillna(0).drop(columns=[0]).plot.barh()\n",
    "plt.xlabel(\"Proportion\")\n",
    "tit = plt.title(\"Categories captured by each cluster\")"
   ]
  },
  {
   "cell_type": "markdown",
   "metadata": {},
   "source": [
    "The results are still mostly similar. Cluster 1 can be divided into several other clusters, and captures some job categories that are similar, such as network engineering, software engineering and harware engineering. Meanwhile, Markerting & Communications are still captured in a similar ratio to the clustering without PCA. "
   ]
  },
  {
   "cell_type": "markdown",
   "metadata": {},
   "source": [
    "## Part3b: Job skills with manual analysis"
   ]
  },
  {
   "cell_type": "markdown",
   "metadata": {},
   "source": [
    "\n",
    "For the purposes of this analysis however, I will also manually create a dictionary that maps each job category into their respective industry. "
   ]
  },
  {
   "cell_type": "code",
   "execution_count": 46,
   "metadata": {},
   "outputs": [],
   "source": [
    "# An attempt to using keywords in the descriptions to categorize into industries. \n",
    "\n",
    "# df_desc[\"Desc_clean\"] = df_desc[\"Description\"].apply(lemmatize)\n",
    "# desc_result = vectorizer.fit_transform(df_desc[\"Desc_clean\"])\n",
    "# desc_vector = pd.Series(vectorizer.get_feature_names())\n",
    "\n",
    "# key_words_list = []\n",
    "# for i in range(df_desc.shape[0]):\n",
    "#     key_words = desc_vector.iloc[pd.Series(desc_result[i].toarray().flatten()).nlargest(NUM_KEYWORDS).index].values\n",
    "#     key_words = set(key_words)\n",
    "#     key_words_list.append(key_words)\n",
    "    \n",
    "# df_desc[\"key_words\"] = key_words_list"
   ]
  },
  {
   "cell_type": "code",
   "execution_count": 47,
   "metadata": {},
   "outputs": [],
   "source": [
    "category_to_industry = {\n",
    "\"Program Management\"          : \"Business, building and other support services [55-56]\",\n",
    "\"Manufacturing & Supply Chain\": \"Manufacturing [31-33]\",\n",
    "\"Technical Solutions\"         : \"Professional, scientific and technical services [54]\",\n",
    "\"Developer Relations\"         : \"Professional, scientific and technical services [54]\",\n",
    "\"Hardware Engineering\"        : \"Professional, scientific and technical services [54]\",\n",
    "\"Partnerships\"                : \"Business, building and other support services [55-56]\",\n",
    "\"Product & Customer Support\"  : \"Business, building and other support services [55-56]\", \n",
    "\"Software Engineering\"        : \"Professional, scientific and technical services [54]\",\n",
    "\"Data Center & Network\"       : \"Professional, scientific and technical services [54]\",\n",
    "\"Business Strategy\"           : \"Business, building and other support services [55-56]\",\n",
    "\"Technical Writing\"           : \"Professional, scientific and technical services [54]\",\n",
    "\"Technical Infrastructure\"    : \"Professional, scientific and technical services [54]\",\n",
    "\"IT & Data Management\"        : \"Professional, scientific and technical services [54]\", \n",
    "\"Marketing & Communications\"  : \"Business, building and other support services [55-56]\",\n",
    "\"Network Engineering\"         : \"Professional, scientific and technical services [54]\",\n",
    "\"Sales & Account Management\"  : \"Business, building and other support services [55-56]\",\n",
    "\"Sales Operations\"            : \"Business, building and other support services [55-56]\",\n",
    "\"Finance\"                     : \"Finance, insurance, real estate, rental and leasing [52-53]\",\n",
    "\"Legal & Government Relations\": \"Professional, scientific and technical services [54]\",\n",
    "\"Administrative\"              : \"Business, building and other support services [55-56]\",\n",
    "\"User Experience & Design\"    : \"Professional, scientific and technical services [54]\",\n",
    "\"People Operations\"           : \"Business, building and other support services [55-56]\",\n",
    "\"Real Estate & Workplace Services\": \"Finance, insurance, real estate, rental and leasing [52-53]\"\n",
    "}"
   ]
  },
  {
   "cell_type": "code",
   "execution_count": 48,
   "metadata": {},
   "outputs": [],
   "source": [
    "df_jobs_man = df_jobs_all.copy()\n",
    "df_jobs_man[\"Industry\"] = df_jobs_man[\"Category\"].apply(lambda x : category_to_industry[x])"
   ]
  },
  {
   "cell_type": "code",
   "execution_count": 49,
   "metadata": {},
   "outputs": [],
   "source": [
    "industries = set(category_to_industry.values())"
   ]
  },
  {
   "cell_type": "code",
   "execution_count": 50,
   "metadata": {},
   "outputs": [],
   "source": [
    "industry_to_prop= {}\n",
    "for industry in industries:\n",
    "    industry_to_prop[industry] = df_jobs_man[df_jobs_man[\"Industry\"] == industry][\"Category\"].value_counts(normalize=True)"
   ]
  },
  {
   "cell_type": "markdown",
   "metadata": {
    "hideCode": true,
    "hidePrompt": false
   },
   "source": [
    "We will calculate the proportion of jobs in each industry, and use that value to calculate the estimated employment. There are however, some large limitations with this, as we are only working with jobs from Google. Therefore, we are under the implicit assumption that the distribution of jobs in Google represents the distribution of jobs in Canada. In the future, we can either test this hypothesis using hypothesis testing given that we have a larger dataset containing jobs in Canada. This might be done by scraping sites such as Indeed, Glassdoor and LinkedIn, however I have yet to do research on the privacy policies on scraping their site. \n",
    "\n",
    "\n",
    "Secondly, since we do not have jobs available for different time frames, this means that the graphs that we have provided will stay within a factor of the overall industry total. "
   ]
  },
  {
   "cell_type": "code",
   "execution_count": 51,
   "metadata": {},
   "outputs": [
    {
     "data": {
      "application/vnd.jupyter.widget-view+json": {
       "model_id": "a0e0bdef3f604633b94df174f7307ebf",
       "version_major": 2,
       "version_minor": 0
      },
      "text/plain": [
       "interactive(children=(Dropdown(description='Category', options=('Program Management', 'Manufacturing & Supply …"
      ]
     },
     "metadata": {},
     "output_type": "display_data"
    }
   ],
   "source": [
    "def plot_category(Category, Province):\n",
    "    \n",
    "    df_selection = df_industry[df_industry[\"GEO\"] == Province]\n",
    "    industry = category_to_industry[Category]\n",
    "    factor = industry_to_prop[industry].loc[Category]\n",
    "    df_selection = df_selection[df_selection[\"NAICS\"] == industry]\n",
    "    df_selection[\"Value\"] = df_selection[\"Value\"] * factor\n",
    "    \n",
    "    plt.plot(df_selection[\"Date\"], df_selection[\"Value\"])\n",
    "    plt.xticks(range(0, 12*5 + 1, 12), [\"2015-02\", \"2016-02\", \"2017-02\", \"2018-02\", \"2019-02\", \"2020-02\"])\n",
    "    plt.title(\"Employment for {} in {}\".format(Category, Province))\n",
    "    plt.ylabel(\"Num employed (x1000)\")\n",
    "    \n",
    "_ = interact(plot_category, Category = df_jobs_man[\"Category\"].unique(), Province = df_industry[\"GEO\"].unique())"
   ]
  },
  {
   "cell_type": "markdown",
   "metadata": {},
   "source": [
    "## Conclusion and Future improvements"
   ]
  },
  {
   "cell_type": "markdown",
   "metadata": {},
   "source": [
    "Given enough suitable data, we can perhaps use logistic regression to solve the problem of getting a visualization of skills and responsibilities to industry and employment. This would required labelled data, where an expert has already previously allocated jobs to their respective industries. Afterwards, we can train a machine learning model to predict the industry given a specific word vector, that might be condensed either by using a similar key word technique described above or other dimension reductionality methods, such as Principal Component Analysis. \n",
    "\n",
    "Similarly, we can improve the keyword analysis if we were given a larger dataset with a more diverse set of responsibilities, as it would improve the TF-IDF's ability to detect key words. We could also do the same key word analysis with the Qualifications field, as it might contain information that may help identify the industry. However due to the time constraints at the time of writing this might be done in the future. \n",
    "\n",
    "There might also be improvements to the clustering if there are more data points. It might also be beneficial to experiment with different clustering algorithms. \n",
    "\n",
    "I hope that this notebook proved to be useful and enlightening. This notebook helped me learn a few new skills, such as the TF-IDF method of extracting key words as well as lemmatization. If there are any questions, please do not hesistate to contact me at the following email:\n",
    "\n",
    "think.smart318@gmail.com\n",
    "\n"
   ]
  }
 ],
 "metadata": {
  "hide_code_all_hidden": false,
  "kernelspec": {
   "display_name": "Python 3",
   "language": "python",
   "name": "python3"
  },
  "language_info": {
   "codemirror_mode": {
    "name": "ipython",
    "version": 3
   },
   "file_extension": ".py",
   "mimetype": "text/x-python",
   "name": "python",
   "nbconvert_exporter": "python",
   "pygments_lexer": "ipython3",
   "version": "3.7.2"
  }
 },
 "nbformat": 4,
 "nbformat_minor": 4
}
